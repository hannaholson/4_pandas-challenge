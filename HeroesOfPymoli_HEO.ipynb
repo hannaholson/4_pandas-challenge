# Dependencies and Setup
import pandas as pd
import numpy as np

# Load Purchase Data CSV
file_to_load = "Resources/purchase_data.csv"

# Read Purchasing File and store into Pandas data frame
file_to_load_df = pd.read_csv(file_to_load)
file_to_load_df.head()


#PLAYER COUNT
# Calculate the Number of Unique Players
player_demographics = purchase_data.loc[:, ["Gender", "SN", "Age"]]
player_demographics = player_demographics.drop_duplicates()
player_count = player_demographics.count()[0]

# Display the total number of players
pd.DataFrame({"Total Players": [player_count]})



#PURCHASING ANALYSIS
# Calculate unique items, average price, etc.
item_count = len(purchase_data["Item ID"].unique())
average_item_price = purchase_data["Price"].mean()
total_purchase_value = purchase_data["Price"].sum()
purchase_count = purchase_data["Price"].count()

# Create a DataFrame to hold results
summary_table = pd.DataFrame({"Number of Unique Items": item_count,
                              "Total Sales": [total_purchase_value],
                              "Number of Purchases": [purchase_count],
                              "Average Price per Item": [average_item_price]})

# Organize/Format Data
summary_table = summary_table.round(2)
summary_table ["Average Price per Item"] = summary_table["Average Price per Item"].map("${:,.2f}".format)
summary_table ["Number of Purchases"] = summary_table["Number of Purchases"].map("{:,}".format)
summary_table ["Total Sales"] = summary_table["Total Sales"].map("${:,.2f}".format)
summary_table = summary_table.loc[:,["Number of Unique Items", "Average Price per Item", "Number of Purchases", "Total Sales"]]

# Display summary_table
display(summary_table)



#GENDER DEMOGRAPHICS
# Calculate the Number and Percentage of Players by Gender
gender_demographics_totals = player_demographics["Gender"].value_counts()
gender_demographics_percents = gender_demographics_totals / num_players * 100
gender_demographics = pd.DataFrame({"Count": gender_demographics_totals, "Percentage": gender_demographics_percents})

# Organize/Format Data
gender_demographics = gender_demographics.round(2)

# Display gender_demographics
display(gender_demographics)



#PURCHASING ANALYSIS (GENDER)
# Calculate purchase count, avg. purchase price- by gender
gender_purchase_total = purchase_data.groupby(["Gender"]).sum()["Price"].rename("Total Purchase Value")
gender_average = purchase_data.groupby(["Gender"]).mean()["Price"].rename("Average Purchase Price")
gender_counts = purchase_data.groupby(["Gender"]).count()["Price"].rename("Purchase Count")

# Calculate avg. purchase total per person etc. by gender
normalized_total = gender_purchase_total / gender_demographics["Count"]

# Create DataFrame
gender_analysis = pd.DataFrame({"Purchase Count": gender_counts, "Average Purchase Price": gender_average, "Total Purchase Value": gender_purchase_total, "Normalized Totals": normalized_total})

# Organize/Format Data
gender_analysis["Average Purchase Price"] = gender_analysis["Average Purchase Price"].map("${:,.2f}".format)
gender_analysis["Total Purchase Value"] = gender_analysis["Total Purchase Value"].map("${:,.2f}".format)
gender_analysis ["Purchase Count"] = gender_analysis["Purchase Count"].map("{:,}".format)
gender_analysis ["Avg Total per Person"] = gender_analysis["Normalized Totals"].map("${:,.2f}".format)
gender_analysis = gender_analysis.loc[:, ["Purchase Count", "Average Purchase Price", "Total Purchase Value", "Avg Total per Person"]]

# Display gender_analysis
display(gender_analysis)


#AGE DEMOGRAPHICS
# Establish the bins
age_bins = [0, 9.90, 14.90, 19.90, 24.90, 29.90, 34.90, 39.90, 99999]
group_names = ["<10", "10-14", "15-19", "20-24", "25-29", "30-34", "35-39", "40+"]

# Categorize the existing players using the age bins. Hint: use pd.cut()
player_demographics["Age Ranges"] = pd.cut(player_demographics["Age"], age_bins, labels=group_names)

# Calculate the numbers and percentages by age group
age_demographics_totals = player_demographics["Age Ranges"].value_counts()
age_demographics_percents = age_demographics_totals / num_players * 100
age_demographics = pd.DataFrame({"Player Count": age_demographics_totals, "% of Players": age_demographics_percents})

# Format Data: Rount to two decimal places
age_demographics = age_demographics.round(2)

# Display age_demographics
age_demographics.sort_index()



#PURCHASING ANALYSIS
# Bin the purchase_data data frame by age
purchase_data["Age Ranges"] = pd.cut(purchase_data["Age"], age_bins, labels=group_names)

# Run basic calculations to obtain purchase count, avg. purchase price,
age_purchase_total = purchase_data.groupby(["Age Ranges"]).sum()["Price"].rename("Total Purchase Value")
age_average = purchase_data.groupby(["Age Ranges"]).mean()["Price"].rename("Average Purchase Price")
age_counts = purchase_data.groupby(["Age Ranges"]).count()["Price"].rename("Purchase Count")

# Run basic calculations to obtain avg. purchase total per person
normalized_total = age_purchase_total / age_demographics["Player Count"]

# Create a summary data frame to hold the results
age_analysis = pd.DataFrame({"Purchase Count": age_counts, "Average Purchase Price": age_average, "Total Purchase Value": age_purchase_total, "Normalized Totals": normalized_total})

# Organize/Format Data
age_analysis["Average Purchase Price"] = age_analysis["Average Purchase Price"].map("${:,.2f}".format)
age_analysis["Total Purchase Value"] = age_analysis["Total Purchase Value"].map("${:,.2f}".format)
age_analysis ["Purchase Count"] = age_analysis["Purchase Count"].map("{:,}".format)
age_analysis["Avg Total Purchase per Person"] = age_analysis["Normalized Totals"].map("${:,.2f}".format)
age_analysis = age_analysis.loc[:, ["Purchase Count", "Average Purchase Price", "Total Purchase Value", "Avg Total Purchase per Person"]]

# Display the Age Table
display(age_analysis)



#TOP SPENDERS
# Run basic calculations to obtain the results in the table below
user_total = purchase_data.groupby(["SN"]).sum()["Price"].rename("Total Purchase Value")
user_average = purchase_data.groupby(["SN"]).mean()["Price"].rename("Average Purchase Price")
user_count = purchase_data.groupby(["SN"]).count()["Price"].rename("Purchase Count")

# Create a summary data frame to hold the results
user_data = pd.DataFrame({"Total Purchase Value": user_total, "Average Purchase Price": user_average, "Purchase Count": user_count})


# Sort the total purchase value column in descending order
user_sorted = user_data.sort_values("Total Purchase Value", ascending=False)

# Organize/Format Data
user_sorted["Average Purchase Price"] = user_sorted["Average Purchase Price"].map("${:,.2f}".format)
user_sorted["Total Purchase Value"] = user_sorted["Total Purchase Value"].map("${:,.2f}".format)
user_sorted = user_sorted.loc[:,["Purchase Count", "Average Purchase Price", "Total Purchase Value"]]

# Display a preview of the summary data frame
display(user_sorted)



#MOST POPULAR ITEMS
# Retrieve the Item ID, Item Name, and Item Price columns
item_data = purchase_data.loc[:,["Item ID", "Item Name", "Price"]]

# Group by Item ID and Item Name. 
#Perform calculations to obtain purchase count, average item price, and total purchase value
total_item_purchase = item_data.groupby(["Item ID", "Item Name"]).sum()["Price"].rename("Total Purchase Value")
average_item_purchase = item_data.groupby(["Item ID", "Item Name"]).mean()["Price"]
item_count = item_data.groupby(["Item ID", "Item Name"]).count()["Price"].rename("Purchase Count")

# Create a summary data frame to hold the results
item_data_pd = pd.DataFrame({"Total Purchase Value": total_item_purchase, "Item Price": average_item_purchase, "Purchase Count": item_count})

# Sort the purchase count column in descending order
item_data_count_sorted = item_data_pd.sort_values("Purchase Count", ascending=False)

# Organize/Format Data
item_data_count_sorted["Item Price"] = item_data_count_sorted["Item Price"].map("${:,.2f}".format)
item_data_count_sorted["Purchase Count"] = item_data_count_sorted["Purchase Count"].map("{:,}".format)
item_data_count_sorted["Total Purchase Value"] = item_data_count_sorted["Total Purchase Value"].map("${:,.2f}".format)
item_popularity = item_data_count_sorted.loc[:,["Purchase Count", "Item Price", "Total Purchase Value"]]

# Display a preview of the summary data frame
display(item_popularity)



#MOST PROFITABLE ITEMS
# Sort the above table by total purchase value in descending order
item_total_purchase = item_data_pd.sort_values("Total Purchase Value", ascending=False)

# Organize/Format Data
item_total_purchase["Item Price"] = item_total_purchase["Item Price"].map("${:,.2f}".format)
item_total_purchase["Purchase Count"] = item_total_purchase["Purchase Count"].map("{:,}".format)
item_total_purchase["Total Purchase Value"] = item_total_purchase["Total Purchase Value"].map("${:,.2f}".format)
item_profitable = item_total_purchase.loc[:,["Purchase Count", "Item Price", "Total Purchase Value"]]

# Display a preview of the data frame
display(item_profitable)

#THE END




